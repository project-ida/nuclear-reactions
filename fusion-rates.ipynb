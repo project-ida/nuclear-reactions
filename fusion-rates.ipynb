{
 "cells": [
  {
   "cell_type": "markdown",
   "id": "8151f8ad-7650-4410-966c-a19eb75c6f1d",
   "metadata": {},
   "source": [
    "<a href=\"https://colab.research.google.com/github/project-ida/nuclear-reactions/blob/20241119-gamow/fusion-rates.ipynb\" target=\"_parent\"><img src=\"https://colab.research.google.com/assets/colab-badge.svg\" alt=\"Open In Colab\"/></a> &nbsp;&nbsp;&nbsp;&nbsp;&nbsp;&nbsp;&nbsp;&nbsp;&nbsp;&nbsp; <a href=\"https://nbviewer.jupyter.org/github/project-ida/nuclear-reactions/blob/20241119-gamow/fusion-rates.ipynb\" target=\"_parent\"><img src=\"https://nbviewer.jupyter.org/static/img/nav_logo.svg\" alt=\"Open In nbviewer\" width=\"100\"/></a>"
   ]
  },
  {
   "cell_type": "markdown",
   "id": "196aeb1e-3553-4df9-ae3a-ca9183dee4ac",
   "metadata": {},
   "source": [
    "# Fusion rates\n",
    "\n",
    "In this notebook, we'll calculate nuclear fusion rates for using the [Gamow model](https://web.archive.org/web/20200504014928/http://web.ihep.su/dbserv/compas/src/gamow28/eng.pdf). We'll focus our attention the spontaneous fusion of two deuterons in a $\\rm D_2$ molecule."
   ]
  },
  {
   "cell_type": "code",
   "execution_count": 1,
   "id": "ce33092d-b4ee-4a4f-9e3a-fff1bd53579e",
   "metadata": {},
   "outputs": [
    {
     "name": "stderr",
     "output_type": "stream",
     "text": [
      "/Users/matt/anaconda3/envs/anaconda/lib/python3.11/site-packages/pandas/core/arrays/masked.py:60: UserWarning: Pandas requires version '1.3.6' or newer of 'bottleneck' (version '1.3.5' currently installed).\n",
      "  from pandas.core import (\n"
     ]
    }
   ],
   "source": [
    "import numpy as np\n",
    "import matplotlib.pyplot as plt\n",
    "import matplotlib.ticker as ticker\n",
    "from mpl_toolkits.axes_grid1.inset_locator import inset_axes, mark_inset\n",
    "import pandas as pd\n",
    "from scipy.integrate import simps, trapz\n",
    "pd.set_option('display.max_rows', 300)  # or None to display an unlimited number of rows"
   ]
  },
  {
   "cell_type": "code",
   "execution_count": 2,
   "id": "727fa502-98a1-4c5b-a23a-84e76d7d68f7",
   "metadata": {},
   "outputs": [],
   "source": [
    "# Constants\n",
    "hbar = 1.054571817e-34\n",
    "amu = 1.66053906892e-27 # 1 amu in kg\n",
    "a0 = 0.529177210903e-10 # bohr radius in m\n",
    "Ry_to_eV = 13.605693122990 # 1 Rydberg in eV\n",
    "J_to_eV = 1/1.602176634e-19 # 1 Joule in eV\n",
    "eV_to_J = 1.602176634e-19 # 1 eV in Joules"
   ]
  },
  {
   "cell_type": "code",
   "execution_count": 3,
   "id": "b712f848-0385-495f-bbfd-1318377a96ed",
   "metadata": {},
   "outputs": [],
   "source": [
    "# Deuterium information\n",
    "deuteron_mass = 2.013553212745 * amu\n",
    "muDD = ((deuteron_mass*deuteron_mass) / (deuteron_mass+deuteron_mass)) # reduced mass of D2 in kg"
   ]
  },
  {
   "cell_type": "markdown",
   "id": "0abe17f4-61f6-44e4-a81a-cca6e33d4bae",
   "metadata": {},
   "source": [
    "## Nuclear fusion\n",
    "\n",
    "Fusion can be described as a two step process:\n",
    "1. A quantum tunneling event through a potential barrier, with the barrier defined by the interatomic potential between two nuclei.\n",
    "2. A relaxation or decay of the highly clustered nuclei into some ground state or decay products (with the concomitant release of energy)\n",
    "\n",
    "Step 2 is concerned with nuclear physics and proceeds at a rate $\\gamma$ that's determined from experiment and is typically extremely fast (~$10^{20} s^{-1}$).\n",
    "\n",
    "Step 1 is concerned with solving the [reduced radial Schrödinger equation](https://physics.weber.edu/schroeder/quantum/RadialEquation.pdf) for $u(r)$ that describes the distance, $r$, between the two nuclei:\n",
    "\n",
    "$$-\\frac{\\hbar^2}{2\\mu} \\frac{d^2 u(r)}{dr^2} +  V_{\\rm eff}(r) u(r) = E u(r)$$\n",
    "\n",
    "with $$V_{\\rm eff}(r) = V(r) + \\frac{L(L+1)\\hbar^2}{2\\mu r^2}$$\n",
    "\n",
    "where $\\mu$ is the reduced mass of the nuclei, $V(r)$ is the interatomic potential and $\\frac{L(L+1)\\hbar^2}{2\\mu r^2}$ is the centripetal potential associated with the orbital angular momentum, $L$, of the nuclei with respect to one another. \n",
    "\n",
    "Note that the total wavefunction $\\psi(r, \\theta, \\phi) = R(r) Y_l^m(\\theta, \\phi)$ and the \"reduced radial wavefunction\" is $u(r) = rR(r)$.\n",
    "\n",
    "A tunneling probability $T$ can then be calculated based on integrating $|u(r)|^2$ over the classically forbidden region where the two nuclei don't have sufficient energy to overcome the barrier.\n",
    "\n",
    "The fusion rate can then be simply written as \n",
    "\n",
    "$$\\Gamma = T\\gamma$$\n",
    "\n"
   ]
  },
  {
   "cell_type": "markdown",
   "id": "6b36a098-9462-469c-b5c8-30089210997a",
   "metadata": {},
   "source": [
    "## The Gamow model\n",
    "\n",
    "Instead of solving the Schrödinger exactly, we can apply the [WKB approximation](https://en.wikipedia.org/wiki/Quantum_tunnelling#WKB_approximation) to obtain a simpler approximate solution. This was the approach taken by [Gamow](https://web.archive.org/web/20200504014928/http://web.ihep.su/dbserv/compas/src/gamow28/eng.pdf) in 1928 which yields an analytical expression for the tunneling probability:\n",
    "\n",
    "$$T = e^{-2 G} $$\n",
    "\n",
    "with the Gamow factor $G$ is given by:\n",
    "\n",
    "$$G = \\int_{r_1}^{r_2} \\sqrt{\\frac{2\\mu}{\\hbar^2}\\left[V_{\\rm eff}(r) - E\\right]} \\, dr$$\n",
    "\n",
    "where the integration is inside the classically forbidden region and so $r_1$ and $r_2$ are the classical turning points for the potential barrier.\n",
    "\n",
    "The Gamow model is designed for 1D problems. However, it can be adjusted to work for realistic 3D problems by augmenting the fusion rate with a \"correction factor\" $C$. Specifically:\n",
    "\n",
    "$$\\Gamma = CT\\gamma$$\n",
    "\n",
    "where $C$ depends on the specific fusion problem being considered."
   ]
  },
  {
   "cell_type": "markdown",
   "id": "5785b011-5f2c-4aa1-9c74-ecd2c55c31e1",
   "metadata": {},
   "source": [
    "## Potentials\n",
    "\n",
    "The effective potential includes the interatomic potential and the centripetal potential:\n",
    "\n",
    "$$V_{\\rm eff}(r) = V(r) + \\frac{L(L+1)\\hbar^2}{2\\mu r^2}$$\n",
    "\n",
    "\n",
    "For a $\\rm D_2$ molecule, the interatomic potential $V(r)$ consists of 2 parts - the nuclear and molecular potentials:\n",
    "\n",
    "$$V(r) = V_{\\rm nuc}^{S,L}(r) + V_{\\rm mol}(r)$$\n",
    "\n"
   ]
  },
  {
   "cell_type": "markdown",
   "id": "3e1e0dc0-432e-4f9d-832e-6c94396a23fe",
   "metadata": {},
   "source": [
    "### Nuclear potential\n",
    "\n",
    "We use the Woods-Saxon nuclear potential (in MeV):\n",
    "\n",
    "$$V_{\\rm nuc}^{S,L}(r) ~=~ {V_0 \\over 1 + e^{(r - r_S) / a_S}}$$\n"
   ]
  },
  {
   "cell_type": "code",
   "execution_count": 4,
   "id": "4acec128-2ab8-43a4-a4b2-843bdf589f73",
   "metadata": {},
   "outputs": [],
   "source": [
    "# The nuclear Woods-Saxon nuclear potential\n",
    "def V_nuc(r, V0, r_S, a_S):\n",
    "    return V0 / (1 + np.exp((r - r_S) / a_S))"
   ]
  },
  {
   "cell_type": "markdown",
   "id": "2274bf4b-a2a4-4186-99c0-a8c53f2f512f",
   "metadata": {},
   "source": [
    "The parameters depend on the total spin ($S$) and orbital ($L$) angular momenta of the nuclei as seen below and can be found in [Tomusiak et.al](http://dx.doi.org/10.1103/physrevc.52.1963).\n",
    "\n",
    "| State | $V_0$ (MeV) | $r_s$ (fm) | $a_s$ (fm) |\n",
    "|-------|-------------|------------|------------|\n",
    "| $^1S$ | -74.0       | 1.70       | 0.90       |\n",
    "| $^5S$ | -15.5       | 3.59       | 0.81       |\n",
    "| $^3P$ | -13.5       | 5.04       | 0.79       |\n",
    "| $^5D$ | -15.5       | 3.59       | 0.81       |"
   ]
  },
  {
   "cell_type": "code",
   "execution_count": 5,
   "id": "5bc0feb5-ccb0-4a01-92e2-d8085fef8f0c",
   "metadata": {},
   "outputs": [],
   "source": [
    "# Parameters for nuclear potential depend on the state\n",
    "states = [\n",
    "    {\"state\": r\"$^1S$: L=0, S=0\", \"L\":0, \"S\":0, \"V0\": -74.0, \"r_S\": 1.70, \"a_S\": 0.90},\n",
    "    {\"state\": r\"$^5S$: L=0, S=2\", \"L\":0, \"S\":2, \"V0\": -15.5, \"r_S\": 3.59, \"a_S\": 0.81},\n",
    "    {\"state\": r\"$^3P$: L=1, S=1\", \"L\":1, \"S\":1, \"V0\": -13.5, \"r_S\": 5.04, \"a_S\": 0.79},\n",
    "    {\"state\": r\"$^5D$: L=2, S=2\", \"L\":2, \"S\":2, \"V0\": -15.5, \"r_S\": 3.59, \"a_S\": 0.81},\n",
    "]"
   ]
  },
  {
   "cell_type": "markdown",
   "id": "6e037875-1560-43e6-91f0-afdef676381a",
   "metadata": {},
   "source": [
    "We can then see that the attractive nuclear potentials become negligible within about 10 fm."
   ]
  },
  {
   "cell_type": "code",
   "execution_count": 6,
   "id": "4efc8986-2e73-4c7d-a696-587d678a4d72",
   "metadata": {},
   "outputs": [
    {
     "data": {
      "image/png": "[encoded data removed]",
      "text/plain": [
       "<Figure size 640x480 with 1 Axes>"
      ]
     },
     "metadata": {},
     "output_type": "display_data"
    }
   ],
   "source": [
    "# Generate r values (distance in fm)\n",
    "r_fm = np.linspace(0, 10, 500)\n",
    "\n",
    "# Plot the potential for each state\n",
    "plt.figure()\n",
    "for state in states:\n",
    "    V0, r_S, a_S = state[\"V0\"], state[\"r_S\"], state[\"a_S\"]\n",
    "    plt.plot(r_fm, V_nuc(r_fm, V0, r_S, a_S), label=state[\"state\"])\n",
    "\n",
    "# Customise the plot\n",
    "plt.xlabel(\"r (fm)\", fontsize=12)\n",
    "plt.ylabel(\"$V_{\\\\rm nuc}$ (MeV)\")\n",
    "plt.legend()\n",
    "plt.tight_layout()\n",
    "# plt.savefig(\"nuc-potential-D2.png\", dpi=600)\n",
    "plt.show()"
   ]
  },
  {
   "cell_type": "markdown",
   "id": "7bf558aa-3307-4517-8b63-0ea257889e90",
   "metadata": {},
   "source": [
    "### Molecular potential\n",
    "\n",
    "A $\\rm D_2$ molecule exists because of a balance between the electrostatic repulsion between the nuclei and an attraction  between nuclei and the electron cloud. This balance results in a 74 pm equilibrium distance between the deuterons in a gas.\n",
    "\n",
    "There are several options for representing the molecular potential. For example, the [Morse Potential](https://en.wikipedia.org/wiki/Morse_potential) is popular. For a more accurate potential, however, we will draw upon the work of [Kolos 1986](http://dx.doi.org/10.1063/1.1669836). We parameterised the numerical Kolos potential as:\n",
    "\n",
    "$$V_{mol}(r) = \\frac{2}{r}(1 - b_1r - b_2r^2) e^{-\\alpha r^s}$$\n",
    "\n",
    "with $r$ in units of the Bohr radius ($a_0$), $V_{mol}$ is in Rydbergs and with\n",
    "- $\\alpha = 0.6255121237003474$\n",
    "- $b_1 = 1.4752572117720800$\n",
    "- $b_2 = -0.2369829512108492$\n",
    "- $s = 1.0659864120418940$\n",
    "\n",
    "We'll make a function that aligns with the nuclear potential in the sense that it takes $r$ in fm and returned potential in MeV."
   ]
  },
  {
   "cell_type": "code",
   "execution_count": 7,
   "id": "0b6d1dc1-6d41-405b-8219-5dfded099a96",
   "metadata": {},
   "outputs": [],
   "source": [
    "alpha = 0.6255121237003474\n",
    "b1 = 1.4752572117720800\n",
    "b2 = -0.2369829512108492\n",
    "s = 1.0659864120418940\n",
    "\n",
    "# Kolos potential in MeV with r in fm\n",
    "def V_mol(r_fm):\n",
    "    r = r_fm*1e-15/a0 # fm to a0\n",
    "    return (2 / r) * (1 - b1 * r - b2 * r**2) * np.exp(-alpha * r**s) * Ry_to_eV / 1e6"
   ]
  },
  {
   "cell_type": "code",
   "execution_count": 8,
   "id": "bea37d0f-bb76-40eb-b341-c1402d2195f5",
   "metadata": {},
   "outputs": [
    {
     "data": {
      "image/png": "[encoded data removed]",
      "text/plain": [
       "<Figure size 640x480 with 1 Axes>"
      ]
     },
     "metadata": {},
     "output_type": "display_data"
    }
   ],
   "source": [
    "\n",
    "# Range for r in pm for plotting and fm for the potential functions\n",
    "r_pm = np.linspace(25, 500, 500)\n",
    "r_fm = r_pm*1000\n",
    "\n",
    "# Calculate V_mol in MeV\n",
    "V_values = V_mol(r_fm)\n",
    "\n",
    "# Plot\n",
    "plt.figure()\n",
    "plt.plot(r_pm, V_values*1e6, label=r\"$V_{mol}(r)$\")\n",
    "plt.xlabel(r\"$r$ (pm)\")\n",
    "plt.ylabel(r\"$V_{mol}$ (eV)\")\n",
    "# plt.savefig(\"mol-potential-D2.png\", dpi=600)\n",
    "plt.show()"
   ]
  },
  {
   "cell_type": "markdown",
   "id": "6677af02-8e9a-4894-9e0b-3a1cb97c0c2e",
   "metadata": {},
   "source": [
    "### Centripetal potential\n",
    "\n",
    "The centripetal potential is a pseudo-potential that results from casting the Schrödinger equation into a spherical coordinate system. Its repulsive nature prevents systems of attracting bodies that orbit around each other from collapsing in on themselves. It's given by:\n",
    "\n",
    "$$V_{\\rm cent} = \\frac{L(L+1)\\hbar^2}{2\\mu r^2}$$\n",
    "\n",
    "where everything is in SI units.\n",
    "\n",
    "To align with the other potentials, we'll need to create a function that can take $r$ in fm and returns the potential in MeV."
   ]
  },
  {
   "cell_type": "code",
   "execution_count": 9,
   "id": "a09c5aaf-c2fe-471f-a560-3d10e9a2edc2",
   "metadata": {},
   "outputs": [],
   "source": [
    "# Centripetal potential in MeV with r in fm\n",
    "def V_cent(r_fm, L):\n",
    "    r = r_fm*1e-15\n",
    "    return (hbar**2 / (2 * muDD)) * (L * (L + 1)) / (r**2) * J_to_eV / 1e6"
   ]
  },
  {
   "cell_type": "code",
   "execution_count": 10,
   "id": "4d6d5093-1468-4abb-acfb-1e638cd56886",
   "metadata": {},
   "outputs": [
    {
     "data": {
      "image/png": "[encoded data removed]",
      "text/plain": [
       "<Figure size 640x480 with 1 Axes>"
      ]
     },
     "metadata": {},
     "output_type": "display_data"
    }
   ],
   "source": [
    "# Generate r values (distance in fm)\n",
    "r_fm = np.linspace(1, 10, 500)\n",
    "\n",
    "# Plot the potential for each state\n",
    "plt.figure()\n",
    "for state in states:\n",
    "    L = state[\"L\"]\n",
    "    plt.plot(r_fm, V_cent(r_fm, L), label=state[\"state\"])\n",
    "\n",
    "\n",
    "# Customise the plot\n",
    "plt.xlabel(\"r (fm)\")\n",
    "plt.ylabel(\"$V_{\\\\rm cent}$ (MeV)\")\n",
    "plt.legend()\n",
    "plt.tight_layout()\n",
    "# plt.savefig(\"cent-potential-D2.png\", dpi=600)\n",
    "plt.show()"
   ]
  },
  {
   "cell_type": "markdown",
   "id": "cd0b2353-dc9e-4d34-a087-328e86c3568e",
   "metadata": {},
   "source": [
    "### Total effective potential\n",
    "\n",
    "Taken all together, we can see both the coulomb barrier and the presence of the attractive nuclear potential on the other side of the barrier."
   ]
  },
  {
   "cell_type": "code",
   "execution_count": 11,
   "id": "13d39e6a-0bfb-4dbf-aed0-135d7bf3e7cf",
   "metadata": {},
   "outputs": [
    {
     "data": {
      "image/png": "[encoded data removed]",
      "text/plain": [
       "<Figure size 640x480 with 2 Axes>"
      ]
     },
     "metadata": {},
     "output_type": "display_data"
    }
   ],
   "source": [
    "fig, ax = plt.subplots()\n",
    "\n",
    "# Generate r values (distance in fm)\n",
    "r_fm = np.linspace(0.01, 25, 500)\n",
    "\n",
    "# Add inset with a zoomed-in section\n",
    "ax_inset = inset_axes(ax, width=\"35%\", height=\"35%\", loc='center right')\n",
    "\n",
    "# Mark the zoomed-in area on the main plot\n",
    "mark_inset(ax, ax_inset, loc1=3, loc2=1, fc=\"none\", ec=\"0.5\")\n",
    "\n",
    "# Calculate the total effective potential and plot it on both the main and inset axes\n",
    "for state in states:\n",
    "    V0, r_S, a_S, L = state[\"V0\"], state[\"r_S\"], state[\"a_S\"], state[\"L\"]\n",
    "    V_eff = V_nuc(r_fm, V0, r_S, a_S) + V_cent(r_fm, L) + V_mol(r_fm)\n",
    "    ax.plot(r_fm, V_eff, label=state[\"state\"])\n",
    "    ax_inset.plot(r_fm, V_eff, label=state[\"state\"])\n",
    "\n",
    "\n",
    "# Customise the main plot\n",
    "ax.set_xlabel(\"r (fm)\")\n",
    "ax.set_ylabel(\"$V_{\\\\rm nuc} + V_{\\\\rm mol} + V_{\\\\rm cent}$ (MeV)\")\n",
    "ax.legend(loc=\"lower right\", fontsize=9.5)\n",
    "ax.set_ylim(-60,15)\n",
    "ax.set_xlim(0,25)\n",
    "\n",
    "# Customise the inset plot\n",
    "x1, x2, y1, y2 = 5.5, 20, -0.8, 0.8  # specify the limits for the inset\n",
    "ax_inset.axhline(0, color='gray', linestyle='dashed')\n",
    "ax_inset.set_xlim(x1, x2)\n",
    "ax_inset.set_ylim(y1, y2)\n",
    "ax_inset.set_yticks([0,0.57])\n",
    "ax_inset.set_xticks([])\n",
    "ax_inset.set_yticklabels(['0','0.57'])\n",
    "\n",
    "# plt.savefig(\"total-potential-D2.png\", dpi=600)\n",
    "plt.show()\n"
   ]
  },
  {
   "cell_type": "markdown",
   "id": "8e266706-86f5-4777-b31b-36c9b705c498",
   "metadata": {},
   "source": [
    "## Calculating the tunneling probability $T$"
   ]
  },
  {
   "cell_type": "markdown",
   "id": "e6f73e6a-3a97-4134-b934-ac0d9832d8ac",
   "metadata": {},
   "source": [
    "We first need to define a radial grid that has high resolution near the nucleus and lower resolution at greater distance. We do this because the potential changes a lot when we get closer to the nucleus and so when we're doing the integration for calculating the Gamow factor then we'll incur a lot of error if we don't do this."
   ]
  },
  {
   "cell_type": "code",
   "execution_count": 12,
   "id": "f8bbd332-c44e-4f9c-b710-c8ec5c295668",
   "metadata": {},
   "outputs": [],
   "source": [
    "# Remember r is in fm\n",
    "Nr = 30000\n",
    "rmin = 0.03\n",
    "rmax = 500000 # this is 500pm\n",
    "r_fm = np.geomspace(rmin, rmax, Nr) # this creates a logarithmic spacing in the r points"
   ]
  },
  {
   "cell_type": "markdown",
   "id": "5f15c05a-f2c5-44d8-8554-1816f8fc1219",
   "metadata": {},
   "source": [
    "To get a sense of the spacing between the r points, let's visualise a subset of the points."
   ]
  },
  {
   "cell_type": "code",
   "execution_count": 13,
   "id": "ebc47a5d-ff06-4230-85ad-2c176185086b",
   "metadata": {},
   "outputs": [
    {
     "data": {
      "image/png": "[encoded data removed]",
      "text/plain": [
       "<Figure size 640x480 with 1 Axes>"
      ]
     },
     "metadata": {},
     "output_type": "display_data"
    }
   ],
   "source": [
    "plt.figure()\n",
    "plt.plot(r_fm[::500], np.zeros_like(r_fm[::500]), '|', markersize=10, label='Points in r (subsampled)')\n",
    "plt.title(\"Logarithmic spacing of r\")\n",
    "plt.xlabel(\"r (fm)\", fontsize=12)\n",
    "plt.yticks([])  # Remove y-axis ticks for clarity\n",
    "plt.grid(True, which=\"both\", linestyle=\"--\", linewidth=0.5)\n",
    "plt.legend()\n",
    "plt.tight_layout()\n",
    "plt.show()"
   ]
  },
  {
   "cell_type": "markdown",
   "id": "7cede5a5-5902-4e97-840d-80aa8777f8ab",
   "metadata": {},
   "source": [
    "Now, we will define a function to do the integration that's required to calculate the Gamow factor:\n",
    "\n",
    "$$G = \\int_{r_1}^{r_2} \\sqrt{\\frac{2\\mu}{\\hbar^2}\\left[V_{\\rm eff}(r) - E\\right]} \\, dr$$\n",
    "\n",
    "Conceptually, we'll imagine that we can place the deuterons at a specific starting separation $r_{\\rm start}$. This starting separation will imbue the deuterons with an energy $E$ that matches the effective potential at that separation. In other words, $E = V_{\\rm eff}$, the deuterons are stationary and the they start off at one of the classical turning points $r_{\\rm start} = r_{2}$. We then have to integrate down to $r_1$ by finding the other turning point $r_1$ where $E = V_{\\rm eff} $."
   ]
  },
  {
   "cell_type": "code",
   "execution_count": 14,
   "id": "faddc911-a8c7-4ccc-b4f1-9245eb7fe88e",
   "metadata": {},
   "outputs": [],
   "source": [
    "def calculate_G(r, V, r_start):\n",
    "    \n",
    "    # Particles are separated by r_start. \n",
    "    # The energy, E, that the particles must have to be at r_start is V(r_start)\n",
    "    r_start_index = np.where(r > r_start)[0][0]\n",
    "    E = V[r_start_index]\n",
    "\n",
    "    # The Gamow factor is calculated based on integrating V-E between the classical turning points.\n",
    "    V_minus_E = V - E\n",
    "    \n",
    "    # We don't have to explicitly calculate the turning points. We can instead integrate from\n",
    "    # r_start down to some small radius within the nuclear potential well, e.g. 5 fm.\n",
    "    # We can do this by zeroing out the negative values of V-E in that range.\n",
    "\n",
    "    V_minus_E = np.maximum(V_minus_E, 0) # negative values of V_minus_E are set to 0\n",
    "    \n",
    "    # Determine index of r = 5 fm where we'll cut-off the integration from below\n",
    "    r_5fm_index = np.where(r > 5)[0][0]\n",
    "    \n",
    "    # Create the slice of r and V_minus_E in which we'll do the integration\n",
    "    r_slice = r[r_5fm_index:r_start_index]\n",
    "    V_minus_E_slice = V_minus_E[r_5fm_index:r_start_index]\n",
    "    \n",
    "\n",
    "    # Perform the integration using the trapezoidal rule\n",
    "    integral = trapz(np.sqrt(V_minus_E_slice), r_slice)\n",
    "\n",
    "    # Compute the Gamow factor, remembering to convert everything back to SI units\n",
    "    # fm -> m needs factor 1e-15\n",
    "    # MeV -> J needs factor np.sqrt(1e6 * eV_to_J) - Remember V-E is under a square root in the integral\n",
    "    G = np.sqrt((2 * muDD) / (hbar**2)) * integral * 1e-15 * np.sqrt(1e6 * eV_to_J)\n",
    "\n",
    "    return G"
   ]
  },
  {
   "cell_type": "markdown",
   "id": "3bcfe187-c720-4a68-8ccd-0fc5247525b8",
   "metadata": {},
   "source": [
    "Now, we're ready to calculate the tunneling probabilities for the different $\\rm D_2$ states. We just have to choose a starting separation for the deuterons. We'll start with the equilibrium separation in gas, i.e. 74pm."
   ]
  },
  {
   "cell_type": "code",
   "execution_count": 25,
   "id": "31f8fda4-03a4-471f-adb8-9891622f7617",
   "metadata": {},
   "outputs": [
    {
     "name": "stderr",
     "output_type": "stream",
     "text": [
      "/var/folders/pl/qmlshmls1s1dwnxjx6ld2vb80000gn/T/ipykernel_50959/2178570630.py:3: RuntimeWarning: overflow encountered in exp\n",
      "  return V0 / (1 + np.exp((r - r_S) / a_S))\n"
     ]
    },
    {
     "data": {
      "text/html": [
       "<div>\n",
       "<style scoped>\n",
       "    .dataframe tbody tr th:only-of-type {\n",
       "        vertical-align: middle;\n",
       "    }\n",
       "\n",
       "    .dataframe tbody tr th {\n",
       "        vertical-align: top;\n",
       "    }\n",
       "\n",
       "    .dataframe thead th {\n",
       "        text-align: right;\n",
       "    }\n",
       "</style>\n",
       "<table border=\"1\" class=\"dataframe\">\n",
       "  <thead>\n",
       "    <tr style=\"text-align: right;\">\n",
       "      <th></th>\n",
       "      <th>state</th>\n",
       "      <th>$G$</th>\n",
       "      <th>$T=e^{-2G}$</th>\n",
       "    </tr>\n",
       "  </thead>\n",
       "  <tbody>\n",
       "    <tr>\n",
       "      <th>0</th>\n",
       "      <td>$^1S$: L=0, S=0</td>\n",
       "      <td>88.058615</td>\n",
       "      <td>3.260307e-77</td>\n",
       "    </tr>\n",
       "    <tr>\n",
       "      <th>1</th>\n",
       "      <td>$^5S$: L=0, S=2</td>\n",
       "      <td>88.055305</td>\n",
       "      <td>3.281962e-77</td>\n",
       "    </tr>\n",
       "    <tr>\n",
       "      <th>2</th>\n",
       "      <td>$^3P$: L=1, S=1</td>\n",
       "      <td>90.365226</td>\n",
       "      <td>3.234165e-79</td>\n",
       "    </tr>\n",
       "    <tr>\n",
       "      <th>3</th>\n",
       "      <td>$^5D$: L=2, S=2</td>\n",
       "      <td>94.834208</td>\n",
       "      <td>4.246718e-83</td>\n",
       "    </tr>\n",
       "  </tbody>\n",
       "</table>\n",
       "</div>"
      ],
      "text/plain": [
       "             state        $G$   $T=e^{-2G}$\n",
       "0  $^1S$: L=0, S=0  88.058615  3.260307e-77\n",
       "1  $^5S$: L=0, S=2  88.055305  3.281962e-77\n",
       "2  $^3P$: L=1, S=1  90.365226  3.234165e-79\n",
       "3  $^5D$: L=2, S=2  94.834208  4.246718e-83"
      ]
     },
     "execution_count": 25,
     "metadata": {},
     "output_type": "execute_result"
    }
   ],
   "source": [
    "r_start = 74000\n",
    "gamow_results = []\n",
    "\n",
    "for state in states:\n",
    "    V0, r_S, a_S, L = state[\"V0\"], state[\"r_S\"], state[\"a_S\"], state[\"L\"]\n",
    "    V_eff = V_nuc(r_fm, V0, r_S, a_S) + V_cent(r_fm, L) + V_mol(r_fm)\n",
    "    G = calculate_G(r_fm,V_eff,r_start)\n",
    "    T = np.exp(-2*G)\n",
    "    gamow_results.append({\n",
    "        \"state\": state['state'],\n",
    "        \"$G$\": G,\n",
    "        \"$T=e^{-2G}$\": T\n",
    "    })\n",
    "\n",
    "# Convert the list of dictionaries to a DataFrame\n",
    "gamow_results = pd.DataFrame(gamow_results)\n",
    "\n",
    "# Display the DataFrame\n",
    "gamow_results"
   ]
  },
  {
   "cell_type": "markdown",
   "id": "ccd7ca0a-58e3-4494-bb31-531dde6ae05b",
   "metadata": {},
   "source": [
    "In order to calculate the fusion rate $\\Gamma$, we now need to come back and look at the correction factor $C$ and the the nuclear relaxation/decay rate $\\gamma$ in:\n",
    "\n",
    "$$\\Gamma = CT\\gamma$$"
   ]
  },
  {
   "cell_type": "markdown",
   "id": "f71bab34-ffa6-4795-9239-7396249ba7a0",
   "metadata": {},
   "source": [
    "## Volume correction factor for $D_2$\n",
    "\n",
    "In order to apply the Gamow model in 3D, we need to multiply the fusion rate by by a \"correction factor\". For the $\\rm D_2$ fusion problem, this correction factor is the ratio of the nuclear volume to molecular volume  ${v_{nuc} / v_{mol}}$.\n",
    "\n",
    "The ratio depends slightly on the state of the $\\rm D_2$ molecules. To estimate the ratio, we begin by defining the equilibrium bond lengths for different electronic states of a $ \\text{D}_2 $ molecule in terms of the Bohr radius ($ a_0 $):\n",
    "\n",
    "- For the S state: $ R_{0S} = 1.401080 \\times a_0 $\n",
    "- For the P state: $ R_{0P} = R_{0S} + 0.001 \\times 10^{-10} \\, \\text{m} $\n",
    "- For the D state: $ R_{0D} = R_{0S} + 0.002 \\times 10^{-10} \\, \\text{m} $\n",
    "\n",
    "Next, we calculate the de Broglie wavelength of the relative motion ($ \\Delta R $) using the formula:\n",
    "\n",
    "$$\n",
    "\\Delta R = a_0 \\sqrt{\\frac{I_H}{\\hbar \\omega_{0DD}}} \\sqrt{\\frac{2 m_e c^2}{M_{D} c^2}}\n",
    "$$\n",
    "\n",
    "where $ I_H $ is the ionization potential of hydrogen in eV, $ \\hbar \\omega_{0DD} $ is the zero-point energy (0.3862729 eV), $ m_e c^2 $ is the electron mass in MeV, and $ M_D c^2 $ is the deuteron mass in MeV.\n",
    "\n",
    "The molecular volumes ($ v_{mol} $) for the S, P, and D states are computed as follows:\n",
    "\n",
    "- S: $ v_{mol} = 2 \\pi R_{0S} \\left(\\pi \\Delta R^2\\right) $\n",
    "- P: $ v_{mol} = 2 \\pi R_{0P} \\left(\\pi \\Delta R^2\\right) $\n",
    "- D: $ v_{mol} = 2 \\pi R_{0D} \\left(\\pi \\Delta R^2\\right) $\n",
    "\n",
    "The nuclear volume ($ v_{nuc} $) of the deuterium nucleus is calculated assuming a spherical shape with a radius of 5 fm:\n",
    "\n",
    "$$\n",
    "v_{nuc} = \\frac{4}{3} \\pi \\left(5 \\times 10^{-15} \\, \\text{m}\\right)^3\n",
    "$$\n",
    "\n",
    "Finally, the volume ratios of the nuclear volume to the molecular volume for the S, P, and D states are calculated as:\n",
    "\n",
    "- S: $ \\frac{v_{nuc}}{v_{mol}} = 6.66 \\times 10^{-12} $\n",
    "- P: $ \\frac{v_{nuc}}{v_{mol}} = 6.65 \\times 10^{-12} $\n",
    "- D: $ \\frac{v_{nuc}}{v_{mol}} = 6.64 \\times 10^{-12} $"
   ]
  },
  {
   "cell_type": "code",
   "execution_count": 26,
   "id": "4d3248da-0090-495e-b98c-adf24d23ea47",
   "metadata": {},
   "outputs": [
    {
     "data": {
      "text/html": [
       "<div>\n",
       "<style scoped>\n",
       "    .dataframe tbody tr th:only-of-type {\n",
       "        vertical-align: middle;\n",
       "    }\n",
       "\n",
       "    .dataframe tbody tr th {\n",
       "        vertical-align: top;\n",
       "    }\n",
       "\n",
       "    .dataframe thead th {\n",
       "        text-align: right;\n",
       "    }\n",
       "</style>\n",
       "<table border=\"1\" class=\"dataframe\">\n",
       "  <thead>\n",
       "    <tr style=\"text-align: right;\">\n",
       "      <th></th>\n",
       "      <th>state</th>\n",
       "      <th>$G$</th>\n",
       "      <th>$T=e^{-2G}$</th>\n",
       "      <th>$v_{nuc}/v_{mol}$</th>\n",
       "    </tr>\n",
       "  </thead>\n",
       "  <tbody>\n",
       "    <tr>\n",
       "      <th>0</th>\n",
       "      <td>$^1S$: L=0, S=0</td>\n",
       "      <td>88.058615</td>\n",
       "      <td>3.260307e-77</td>\n",
       "      <td>6.660000e-12</td>\n",
       "    </tr>\n",
       "    <tr>\n",
       "      <th>1</th>\n",
       "      <td>$^5S$: L=0, S=2</td>\n",
       "      <td>88.055305</td>\n",
       "      <td>3.281962e-77</td>\n",
       "      <td>6.660000e-12</td>\n",
       "    </tr>\n",
       "    <tr>\n",
       "      <th>2</th>\n",
       "      <td>$^3P$: L=1, S=1</td>\n",
       "      <td>90.365226</td>\n",
       "      <td>3.234165e-79</td>\n",
       "      <td>6.650000e-12</td>\n",
       "    </tr>\n",
       "    <tr>\n",
       "      <th>3</th>\n",
       "      <td>$^5D$: L=2, S=2</td>\n",
       "      <td>94.834208</td>\n",
       "      <td>4.246718e-83</td>\n",
       "      <td>6.640000e-12</td>\n",
       "    </tr>\n",
       "  </tbody>\n",
       "</table>\n",
       "</div>"
      ],
      "text/plain": [
       "             state        $G$   $T=e^{-2G}$  $v_{nuc}/v_{mol}$\n",
       "0  $^1S$: L=0, S=0  88.058615  3.260307e-77       6.660000e-12\n",
       "1  $^5S$: L=0, S=2  88.055305  3.281962e-77       6.660000e-12\n",
       "2  $^3P$: L=1, S=1  90.365226  3.234165e-79       6.650000e-12\n",
       "3  $^5D$: L=2, S=2  94.834208  4.246718e-83       6.640000e-12"
      ]
     },
     "execution_count": 26,
     "metadata": {},
     "output_type": "execute_result"
    }
   ],
   "source": [
    "gamow_results[\"$v_{nuc}/v_{mol}$\"] = [6.66e-12, 6.66e-12, 6.65e-12, 6.64e-12]\n",
    "gamow_results"
   ]
  },
  {
   "cell_type": "markdown",
   "id": "3c31c5b3-74ce-4ebd-b6e8-1a57624e683e",
   "metadata": {},
   "source": [
    "## Nuclear relaxation/decay for $\\rm D_2$ fusion\n",
    "\n",
    "When the deuterons tunnel through the Coulomb barrier, for a very brief moment, they form a highly clustered state that can be recognised as an excited state of $\\rm ^4He$ (often denoted $\\rm ^4He^*$). There are several excited states and they decay via different \"channels\". For example:\n",
    "- Relaxation into the ground state $\\rm ^4He$ with the emission of a gamma ray\n",
    "- Decay into a proton and triton\n",
    "- Decay into a neutron and $\\rm ^3He$\n",
    "\n",
    "Different $\\rm D_2$ states tunnel to different $\\rm ^4He^*$ states which have unique decay rates $\\gamma$. The rates can be found in Table 3.0.1 (page 19) of [Tilley et.al](https://www.sciencedirect.com/science/article/abs/pii/037594749290635W)."
   ]
  },
  {
   "cell_type": "markdown",
   "id": "3bc6385d-9ba0-45d1-be5f-12e8ba79a196",
   "metadata": {},
   "source": [
    "**For the $^5S$ state of $\\rm D_2$**:\n",
    "\n",
    "We must refer to the $\\rm ^5S$ $J^\\pi=2^+$ state of $\\rm ^4He^*$ at 27.42 MeV, whose line width is:\n",
    "\n",
    "$$\n",
    "\\hbar \\gamma_{^5S} ~=~ 0.25 + 0.23~\\text{MeV} ~=~ 0.48~ \\text{MeV}\n",
    "$$\n",
    "\n",
    "\n",
    "and whose associated decay rate and lifetime is:\n",
    "\n",
    "$$\n",
    "\\gamma_{^5S} ~=~ {0.48 ~ {\\rm MeV} \\over \\hbar} ~=~ 7.3 \\times 10^{20}~{\\rm s}^{-1}\n",
    "$$\n",
    "$$\n",
    "\\tau_{^5S} ~=~ {\\hbar \\over 0.48 ~ {\\rm MeV} } ~=~ 1.4 \\times 10^{-21} ~{\\rm sec} \n",
    "$$\n",
    "\n",
    "We don't have data for the $^1S$ state, so we'll use the $^5S$ result."
   ]
  },
  {
   "cell_type": "markdown",
   "id": "9e26b00f-1cda-4d19-92e6-614cb0e025c1",
   "metadata": {},
   "source": [
    "**For the $^3P$ state of $\\rm D_2$**:\n",
    "\n",
    "We must refer to the $\\rm ^3P$ $J^\\pi=1^-$ state of $\\rm ^4He^*$ at 28.37 MeV, whose line width is:\n",
    "\n",
    "$$\n",
    "\\hbar \\gamma_{^3P} ~=~ 0.07 + 0.08~\\text{MeV} ~=~ 0.15~ \\text{MeV}\n",
    "$$\n",
    "\n",
    "\n",
    "and whose associated decay rate and lifetime is:\n",
    "\n",
    "$$\n",
    "\\gamma_{^3P} ~=~ {0.15 ~ {\\rm MeV} \\over \\hbar} ~=~ 2.3 \\times 10^{20}~{\\rm s}^{-1}\n",
    "$$\n",
    "$$\n",
    "\\tau_{^3P} ~=~ {\\hbar \\over 0.15 ~ {\\rm MeV} } ~=~ 4.4 \\times 10^{-21} ~{\\rm sec} \n",
    "$$"
   ]
  },
  {
   "cell_type": "markdown",
   "id": "c2175651-ac07-44d0-bc8b-5e189715f2ab",
   "metadata": {},
   "source": [
    "**For the $^5D$ state of $\\rm D_2$**:\n",
    "\n",
    "We must refer to the $\\rm ^5D$ $J^\\pi=2^+$ state of $\\rm ^4He^*$ at 29.89 MeV, whose line width is:\n",
    "\n",
    "$$\n",
    "\\hbar \\gamma_{^5D} ~=~ 0.04 + 0.04~\\text{MeV} ~=~ 0.08~ \\text{MeV}\n",
    "$$\n",
    "\n",
    "\n",
    "and whose associated decay rate and lifetime is:\n",
    "\n",
    "$$\n",
    "\\gamma_{^5D} ~=~ {0.08 ~ {\\rm MeV} \\over \\hbar} ~=~ 1.2 \\times 10^{20}~{\\rm s}^{-1}\n",
    "$$\n",
    "$$\n",
    "\\tau_{^5D} ~=~ {\\hbar \\over 0.08 ~ {\\rm MeV} } ~=~ 8.2 \\times 10^{-21} ~{\\rm sec} \n",
    "$$\n"
   ]
  },
  {
   "cell_type": "code",
   "execution_count": 27,
   "id": "549a659f-d262-4c10-8313-bcfa0346a26b",
   "metadata": {},
   "outputs": [
    {
     "data": {
      "text/html": [
       "<div>\n",
       "<style scoped>\n",
       "    .dataframe tbody tr th:only-of-type {\n",
       "        vertical-align: middle;\n",
       "    }\n",
       "\n",
       "    .dataframe tbody tr th {\n",
       "        vertical-align: top;\n",
       "    }\n",
       "\n",
       "    .dataframe thead th {\n",
       "        text-align: right;\n",
       "    }\n",
       "</style>\n",
       "<table border=\"1\" class=\"dataframe\">\n",
       "  <thead>\n",
       "    <tr style=\"text-align: right;\">\n",
       "      <th></th>\n",
       "      <th>state</th>\n",
       "      <th>$G$</th>\n",
       "      <th>$T=e^{-2G}$</th>\n",
       "      <th>$v_{nuc}/v_{mol}$</th>\n",
       "      <th>$\\gamma$</th>\n",
       "    </tr>\n",
       "  </thead>\n",
       "  <tbody>\n",
       "    <tr>\n",
       "      <th>0</th>\n",
       "      <td>$^1S$: L=0, S=0</td>\n",
       "      <td>88.058615</td>\n",
       "      <td>3.260307e-77</td>\n",
       "      <td>6.660000e-12</td>\n",
       "      <td>7.300000e+20</td>\n",
       "    </tr>\n",
       "    <tr>\n",
       "      <th>1</th>\n",
       "      <td>$^5S$: L=0, S=2</td>\n",
       "      <td>88.055305</td>\n",
       "      <td>3.281962e-77</td>\n",
       "      <td>6.660000e-12</td>\n",
       "      <td>7.300000e+20</td>\n",
       "    </tr>\n",
       "    <tr>\n",
       "      <th>2</th>\n",
       "      <td>$^3P$: L=1, S=1</td>\n",
       "      <td>90.365226</td>\n",
       "      <td>3.234165e-79</td>\n",
       "      <td>6.650000e-12</td>\n",
       "      <td>2.300000e+20</td>\n",
       "    </tr>\n",
       "    <tr>\n",
       "      <th>3</th>\n",
       "      <td>$^5D$: L=2, S=2</td>\n",
       "      <td>94.834208</td>\n",
       "      <td>4.246718e-83</td>\n",
       "      <td>6.640000e-12</td>\n",
       "      <td>1.200000e+20</td>\n",
       "    </tr>\n",
       "  </tbody>\n",
       "</table>\n",
       "</div>"
      ],
      "text/plain": [
       "             state        $G$   $T=e^{-2G}$  $v_{nuc}/v_{mol}$      $\\gamma$\n",
       "0  $^1S$: L=0, S=0  88.058615  3.260307e-77       6.660000e-12  7.300000e+20\n",
       "1  $^5S$: L=0, S=2  88.055305  3.281962e-77       6.660000e-12  7.300000e+20\n",
       "2  $^3P$: L=1, S=1  90.365226  3.234165e-79       6.650000e-12  2.300000e+20\n",
       "3  $^5D$: L=2, S=2  94.834208  4.246718e-83       6.640000e-12  1.200000e+20"
      ]
     },
     "execution_count": 27,
     "metadata": {},
     "output_type": "execute_result"
    }
   ],
   "source": [
    "gamow_results[\"$\\gamma$\"] = [7.3e20, 7.3e20, 2.3e20, 1.2e20]\n",
    "gamow_results"
   ]
  },
  {
   "cell_type": "markdown",
   "id": "11ce3e5f-03a9-4772-ae4f-3996c018f043",
   "metadata": {},
   "source": [
    "## Calculating the fusion rates\n",
    "\n",
    "Now we have everything we need to calculate the fusion rates via\n",
    "\n",
    "$$\\Gamma = \\frac{v_{nuc}}{v_{mol}}T\\gamma$$"
   ]
  },
  {
   "cell_type": "code",
   "execution_count": 28,
   "id": "280a7366-536f-42dc-84ca-fd559fb3d1c7",
   "metadata": {},
   "outputs": [
    {
     "data": {
      "text/html": [
       "<div>\n",
       "<style scoped>\n",
       "    .dataframe tbody tr th:only-of-type {\n",
       "        vertical-align: middle;\n",
       "    }\n",
       "\n",
       "    .dataframe tbody tr th {\n",
       "        vertical-align: top;\n",
       "    }\n",
       "\n",
       "    .dataframe thead th {\n",
       "        text-align: right;\n",
       "    }\n",
       "</style>\n",
       "<table border=\"1\" class=\"dataframe\">\n",
       "  <thead>\n",
       "    <tr style=\"text-align: right;\">\n",
       "      <th></th>\n",
       "      <th>state</th>\n",
       "      <th>$G$</th>\n",
       "      <th>$T=e^{-2G}$</th>\n",
       "      <th>$v_{nuc}/v_{mol}$</th>\n",
       "      <th>$\\gamma$</th>\n",
       "      <th>$\\Gamma$</th>\n",
       "    </tr>\n",
       "  </thead>\n",
       "  <tbody>\n",
       "    <tr>\n",
       "      <th>0</th>\n",
       "      <td>$^1S$: L=0, S=0</td>\n",
       "      <td>88.058615</td>\n",
       "      <td>3.260307e-77</td>\n",
       "      <td>6.660000e-12</td>\n",
       "      <td>7.300000e+20</td>\n",
       "      <td>1.585096e-67</td>\n",
       "    </tr>\n",
       "    <tr>\n",
       "      <th>1</th>\n",
       "      <td>$^5S$: L=0, S=2</td>\n",
       "      <td>88.055305</td>\n",
       "      <td>3.281962e-77</td>\n",
       "      <td>6.660000e-12</td>\n",
       "      <td>7.300000e+20</td>\n",
       "      <td>1.595625e-67</td>\n",
       "    </tr>\n",
       "    <tr>\n",
       "      <th>2</th>\n",
       "      <td>$^3P$: L=1, S=1</td>\n",
       "      <td>90.365226</td>\n",
       "      <td>3.234165e-79</td>\n",
       "      <td>6.650000e-12</td>\n",
       "      <td>2.300000e+20</td>\n",
       "      <td>4.946656e-70</td>\n",
       "    </tr>\n",
       "    <tr>\n",
       "      <th>3</th>\n",
       "      <td>$^5D$: L=2, S=2</td>\n",
       "      <td>94.834208</td>\n",
       "      <td>4.246718e-83</td>\n",
       "      <td>6.640000e-12</td>\n",
       "      <td>1.200000e+20</td>\n",
       "      <td>3.383785e-74</td>\n",
       "    </tr>\n",
       "  </tbody>\n",
       "</table>\n",
       "</div>"
      ],
      "text/plain": [
       "             state        $G$   $T=e^{-2G}$  $v_{nuc}/v_{mol}$      $\\gamma$  \\\n",
       "0  $^1S$: L=0, S=0  88.058615  3.260307e-77       6.660000e-12  7.300000e+20   \n",
       "1  $^5S$: L=0, S=2  88.055305  3.281962e-77       6.660000e-12  7.300000e+20   \n",
       "2  $^3P$: L=1, S=1  90.365226  3.234165e-79       6.650000e-12  2.300000e+20   \n",
       "3  $^5D$: L=2, S=2  94.834208  4.246718e-83       6.640000e-12  1.200000e+20   \n",
       "\n",
       "       $\\Gamma$  \n",
       "0  1.585096e-67  \n",
       "1  1.595625e-67  \n",
       "2  4.946656e-70  \n",
       "3  3.383785e-74  "
      ]
     },
     "execution_count": 28,
     "metadata": {},
     "output_type": "execute_result"
    }
   ],
   "source": [
    "gamow_results[\"$\\Gamma$\"] = gamow_results[\"$v_{nuc}/v_{mol}$\"]*gamow_results[\"$T=e^{-2G}$\"]*gamow_results[\"$\\gamma$\"]\n",
    "gamow_results"
   ]
  }
 ],
 "metadata": {
  "jupytext": {
   "formats": "ipynb,src//md"
  },
  "kernelspec": {
   "display_name": "Python 3 (ipykernel)",
   "language": "python",
   "name": "python3"
  },
  "language_info": {
   "codemirror_mode": {
    "name": "ipython",
    "version": 3
   },
   "file_extension": ".py",
   "mimetype": "text/x-python",
   "name": "python",
   "nbconvert_exporter": "python",
   "pygments_lexer": "ipython3",
   "version": "3.11.4"
  }
 },
 "nbformat": 4,
 "nbformat_minor": 5
}
